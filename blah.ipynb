{
 "cells": [
  {
   "cell_type": "code",
   "execution_count": 142,
   "metadata": {},
   "outputs": [],
   "source": [
    "#Train a logisitic regression model on data.csv\n",
    "\n",
    "from sklearn.linear_model import LogisticRegression\n",
    "import numpy as np\n",
    "\n",
    "\n",
    "\n",
    "def loadData(filename, label):\n",
    "    with open(filename, 'r') as f:\n",
    "        X_ = np.loadtxt(f, delimiter=',')\n",
    "    X = []\n",
    "    for i in range(len(X_[:, 0])//3):\n",
    "        point = []\n",
    "        point += (X_[i*3, :]).tolist()\n",
    "        point += (X_[i*3+1, :]).tolist()\n",
    "        point += (X_[i*3+2, :]).tolist()\n",
    "        X.append(point)\n",
    "    X = np.array(X)\n",
    "    Y = np.array([label for i in range(len(X[:, 0]))])\n",
    "    return X, Y\n",
    "\n",
    "labels = ['upDown', 'downUp', 'rightLeft', 'rotRight']\n",
    "X = np.array([])\n",
    "Y = np.array([])\n",
    "for (i, label) in enumerate(labels):\n",
    "    filename = \"./%s.csv\" % label\n",
    "    _X, _Y = loadData(filename, labels.index(label))\n",
    "    if X.shape[0] == 0:\n",
    "        X = _X\n",
    "        Y = _Y\n",
    "    else:\n",
    "        X = np.concatenate((X, _X), axis=0)\n",
    "        Y = np.concatenate((Y, _Y), axis=0)"
   ]
  },
  {
   "cell_type": "code",
   "execution_count": 141,
   "metadata": {},
   "outputs": [],
   "source": [
    "def formatFile(fileName):\n",
    "    with open(fileName, 'r') as f:\n",
    "        _lines = f.readlines()\n",
    "        lines = []\n",
    "        for line in _lines:\n",
    "            line = line.strip()\n",
    "            line = line.split(',')\n",
    "            if line[-1] == '':\n",
    "                line = line[:-1]\n",
    "            lines.append(','.join(line) + '\\n')\n",
    "\n",
    "\n",
    "    with open(fileName, 'w') as f:\n",
    "        for line in lines:\n",
    "            f.write(line)\n",
    "\n",
    "formatFile('./rotRight.csv')"
   ]
  },
  {
   "cell_type": "code",
   "execution_count": 143,
   "metadata": {},
   "outputs": [
    {
     "data": {
      "text/html": [
       "<style>#sk-container-id-8 {color: black;background-color: white;}#sk-container-id-8 pre{padding: 0;}#sk-container-id-8 div.sk-toggleable {background-color: white;}#sk-container-id-8 label.sk-toggleable__label {cursor: pointer;display: block;width: 100%;margin-bottom: 0;padding: 0.3em;box-sizing: border-box;text-align: center;}#sk-container-id-8 label.sk-toggleable__label-arrow:before {content: \"▸\";float: left;margin-right: 0.25em;color: #696969;}#sk-container-id-8 label.sk-toggleable__label-arrow:hover:before {color: black;}#sk-container-id-8 div.sk-estimator:hover label.sk-toggleable__label-arrow:before {color: black;}#sk-container-id-8 div.sk-toggleable__content {max-height: 0;max-width: 0;overflow: hidden;text-align: left;background-color: #f0f8ff;}#sk-container-id-8 div.sk-toggleable__content pre {margin: 0.2em;color: black;border-radius: 0.25em;background-color: #f0f8ff;}#sk-container-id-8 input.sk-toggleable__control:checked~div.sk-toggleable__content {max-height: 200px;max-width: 100%;overflow: auto;}#sk-container-id-8 input.sk-toggleable__control:checked~label.sk-toggleable__label-arrow:before {content: \"▾\";}#sk-container-id-8 div.sk-estimator input.sk-toggleable__control:checked~label.sk-toggleable__label {background-color: #d4ebff;}#sk-container-id-8 div.sk-label input.sk-toggleable__control:checked~label.sk-toggleable__label {background-color: #d4ebff;}#sk-container-id-8 input.sk-hidden--visually {border: 0;clip: rect(1px 1px 1px 1px);clip: rect(1px, 1px, 1px, 1px);height: 1px;margin: -1px;overflow: hidden;padding: 0;position: absolute;width: 1px;}#sk-container-id-8 div.sk-estimator {font-family: monospace;background-color: #f0f8ff;border: 1px dotted black;border-radius: 0.25em;box-sizing: border-box;margin-bottom: 0.5em;}#sk-container-id-8 div.sk-estimator:hover {background-color: #d4ebff;}#sk-container-id-8 div.sk-parallel-item::after {content: \"\";width: 100%;border-bottom: 1px solid gray;flex-grow: 1;}#sk-container-id-8 div.sk-label:hover label.sk-toggleable__label {background-color: #d4ebff;}#sk-container-id-8 div.sk-serial::before {content: \"\";position: absolute;border-left: 1px solid gray;box-sizing: border-box;top: 0;bottom: 0;left: 50%;z-index: 0;}#sk-container-id-8 div.sk-serial {display: flex;flex-direction: column;align-items: center;background-color: white;padding-right: 0.2em;padding-left: 0.2em;position: relative;}#sk-container-id-8 div.sk-item {position: relative;z-index: 1;}#sk-container-id-8 div.sk-parallel {display: flex;align-items: stretch;justify-content: center;background-color: white;position: relative;}#sk-container-id-8 div.sk-item::before, #sk-container-id-8 div.sk-parallel-item::before {content: \"\";position: absolute;border-left: 1px solid gray;box-sizing: border-box;top: 0;bottom: 0;left: 50%;z-index: -1;}#sk-container-id-8 div.sk-parallel-item {display: flex;flex-direction: column;z-index: 1;position: relative;background-color: white;}#sk-container-id-8 div.sk-parallel-item:first-child::after {align-self: flex-end;width: 50%;}#sk-container-id-8 div.sk-parallel-item:last-child::after {align-self: flex-start;width: 50%;}#sk-container-id-8 div.sk-parallel-item:only-child::after {width: 0;}#sk-container-id-8 div.sk-dashed-wrapped {border: 1px dashed gray;margin: 0 0.4em 0.5em 0.4em;box-sizing: border-box;padding-bottom: 0.4em;background-color: white;}#sk-container-id-8 div.sk-label label {font-family: monospace;font-weight: bold;display: inline-block;line-height: 1.2em;}#sk-container-id-8 div.sk-label-container {text-align: center;}#sk-container-id-8 div.sk-container {/* jupyter's `normalize.less` sets `[hidden] { display: none; }` but bootstrap.min.css set `[hidden] { display: none !important; }` so we also need the `!important` here to be able to override the default hidden behavior on the sphinx rendered scikit-learn.org. See: https://github.com/scikit-learn/scikit-learn/issues/21755 */display: inline-block !important;position: relative;}#sk-container-id-8 div.sk-text-repr-fallback {display: none;}</style><div id=\"sk-container-id-8\" class=\"sk-top-container\"><div class=\"sk-text-repr-fallback\"><pre>LogisticRegression(multi_class=&#x27;ovr&#x27;, solver=&#x27;liblinear&#x27;)</pre><b>In a Jupyter environment, please rerun this cell to show the HTML representation or trust the notebook. <br />On GitHub, the HTML representation is unable to render, please try loading this page with nbviewer.org.</b></div><div class=\"sk-container\" hidden><div class=\"sk-item\"><div class=\"sk-estimator sk-toggleable\"><input class=\"sk-toggleable__control sk-hidden--visually\" id=\"sk-estimator-id-8\" type=\"checkbox\" checked><label for=\"sk-estimator-id-8\" class=\"sk-toggleable__label sk-toggleable__label-arrow\">LogisticRegression</label><div class=\"sk-toggleable__content\"><pre>LogisticRegression(multi_class=&#x27;ovr&#x27;, solver=&#x27;liblinear&#x27;)</pre></div></div></div></div></div>"
      ],
      "text/plain": [
       "LogisticRegression(multi_class='ovr', solver='liblinear')"
      ]
     },
     "execution_count": 143,
     "metadata": {},
     "output_type": "execute_result"
    }
   ],
   "source": [
    "# def trainLogReg(X, Y, clss = 0):\n",
    "#     Y = Y.copy()\n",
    "#     for i in range(Y.shape[0]):\n",
    "#         if Y[i] == clss:\n",
    "#             Y[i] = 1\n",
    "#         else:\n",
    "#             Y[i] = 0\n",
    "#     clf = LogisticRegression(random_state=0, max_iter=10000).fit(X, Y)\n",
    "#     return clf\n",
    "    \n",
    "# clfs = []\n",
    "# for (i, label) in enumerate(labels):\n",
    "#     clfs.append(trainLogReg(X, Y, i))\n",
    "clf = LogisticRegression(multi_class='ovr', solver='liblinear')\n",
    "clf.fit(X, Y)\n"
   ]
  },
  {
   "cell_type": "code",
   "execution_count": 144,
   "metadata": {},
   "outputs": [
    {
     "name": "stdout",
     "output_type": "stream",
     "text": [
      "[0]\n",
      "const float upDown[] = {0.1401694647220757, -0.029168663751488313, -0.0677597358382101, -0.31656904803121927, -0.35740917113716125, -0.3616711714510791, -0.3594188704566867, -0.2697464419419385, -0.17941569105689104, -0.09939907949451687, -0.005706973568385386, 0.09587166893095121, 0.09259843561911417, 0.031118614663077478, 0.0186525012379262, 0.001184484089112319, 0.0, 0.0, 0.0, 0.0, -0.2902773051470624, -0.05823375480830115, -0.12741757801276973, 0.3460464206595746, 0.3123135830772928, 0.1621393491512547, 0.026324037188317, 0.14354926509429675, -0.090531865785244, -0.32465609051523175, -0.5177605444390349, -0.37834324525034174, -0.3071743938890251, -0.012852438879462299, -0.005274548553465841, -0.0015719971906788663, 0.0, 0.0, 0.0, 0.0, 0.5641949327077652, 0.8088549557295046, -0.16700353518802213, -0.35216559613668796, -0.26622576002739406, -0.40176584515765595, -0.3927373614012587, -0.430383404754692, -0.10203000956966013, 0.1349899425647372, 0.3517487480392887, 0.12109047847654708, 0.10592333736295931, 0.0893633002137326, -0.06802023398280639, -0.08010503850958112, 0.0, 0.0, 0.0, 0.0};\n",
      "const float upDownInt = -0.032425486356430784;\n",
      "const float downUp[] = {0.10129779214628762, 0.22324022698322687, 0.2497394648821436, 0.3025754839408336, 0.5089978188489049, 0.7331293833791012, 0.8025996962579308, 0.8577996721561224, 0.17993175448776969, 0.05923001055795328, -0.06343969908539077, -0.17335585492627706, -0.13105254733699895, -0.09159287822561804, -0.038493500723204885, -0.00027245670780346907, 0.0, 0.0, 0.0, 0.0, 0.2999804861863276, -0.03406010987381334, 0.04133142247832076, 0.13572505864656265, -0.07393055574743483, -0.3451938757322811, -0.5384959749501765, -0.6445267603259325, -0.32274846392698925, -0.2777249496594294, -0.32509668025899174, -0.11451260187232049, -0.06708042585345089, 0.0334910151296716, 0.011184656404708166, 0.00036188618443290527, 0.0, 0.0, 0.0, 0.0, -0.2973742145400207, -0.0508744904531233, 0.29888023474525705, 0.6921126741539468, 0.11422803115575642, -0.20198267614150517, -0.34280045498023404, -0.1526655408651346, -0.3834678043643076, -0.22021463557722726, 0.003166442793339631, 0.034938928004005256, 0.06593200236517553, 0.023693032114340012, 0.004219635146095337, 0.018457540871127096, 0.0, 0.0, 0.0, 0.0};\n",
      "const float downUpInt = -0.14643161539574717;\n",
      "const float rightLeft[] = {-0.27090646852329714, -0.30773903205783176, -0.287932173589952, 0.0075919093169752195, 0.02346438007940048, -0.008207462305421364, -0.008963242556446678, -0.08677035463836728, 0.07284008402439335, 0.0629280507858054, 0.028990019411966467, -0.011360043804724728, -0.05558099632035464, 0.002164235207071964, 0.0006372202651390311, 4.482178347377847e-05, 0.0, 0.0, 0.0, 0.0, 0.5195238628899997, 0.7238240208868069, 0.7466742800746984, 0.1527640716071129, 0.06256784627598148, 0.21172291080554206, 0.29434598063813777, 0.08774520328350276, 0.1797213079101521, 0.2945887925819631, 0.4646512449510577, 0.3516377026866109, 0.36388753268018204, -0.0009796518513322248, -0.00016860745370260148, -6.348891185559107e-05, 0.0, 0.0, 0.0, 0.0, 0.11672803719118138, -0.061113727695108644, 0.2472146351840485, 0.19098757956597123, 0.06534929439155039, 0.09555166687140046, -0.053569419422552236, -0.1251465350512223, -0.1889482455906601, -0.054141107479103966, -0.3119854625342412, -0.3006095554871775, 0.03981250406718397, -0.24856436201330698, -0.08364117515738394, -0.003463660794959735, 0.0, 0.0, 0.0, 0.0};\n",
      "const float rightLeftInt = -0.026449754090449463;\n",
      "const float rotRight[] = {0.002985005104072975, 0.05750646567670259, 0.001884216786060747, -0.05744371954450454, -0.10351751811053307, -0.13778951622884394, -0.15496608487154795, -0.15947475855798007, -0.045538161838955524, -0.020468471561668207, -0.012614950179248841, -0.004316352170822828, 0.003049307963841031, 0.0014216521006095097, 0.00042028092558966295, 5.137709917002062e-05, 0.0, 0.0, 0.0, 0.0, -0.30178001151491646, -0.42426183587995014, -0.323045599356262, -0.2115282186353547, -0.13484667330014963, -0.06231882721231716, 0.010895409881231536, 0.07335483974128326, 0.03765435761395429, 0.024904063197848877, 0.03898974298704755, 0.029075944483432613, -0.0036099743820962094, -0.0006451695419427535, -0.00014440705202891152, -7.097264171549227e-05, 0.0, 0.0, 0.0, 0.0, -0.2484948431689929, -0.4753679232788697, -0.33545971465066343, -0.20337243653630302, -0.0623744861545512, 0.07603652396727598, 0.14954352810615393, 0.20245488759620658, 0.3588751012076331, 0.054951088532420506, -0.06369458231041653, -0.05582965013676734, -0.16898393315114596, -0.05775876512160965, -0.018284838878240908, -0.0037756177575065317, 0.0, 0.0, 0.0, 0.0};\n",
      "const float rotRightInt = 0.04275485494366888;\n"
     ]
    }
   ],
   "source": [
    "# def predict(clfs, X):\n",
    "#     for clf in clfs:\n",
    "#         print(clf.predict(X))\n",
    "test = [0,0,0,0,0,0,0,0,0,0,0,0,0,0,0,0,0,0,0,0,\n",
    "0,0,0,0,0,0,0,0,0,0,0,0,0,0,0,0,0,0,0,0,\n",
    "10.28,10.78,11.05,7.33,7.83,8.25,8.59,7.52,8.23,9.08,9.82,10.45,10.99,11.23,0,0,0,0,0,0]\n",
    "test = np.array(test).reshape(1, -1)\n",
    "# predict(clfs, test)\n",
    "print(clf.predict(test))\n",
    "\n",
    "coefs = []\n",
    "intercepts = []\n",
    "# for clf in clfs:\n",
    "#     coef = clf.coef_.reshape(1, -1).tolist()[0]\n",
    "#     intercept = clf.intercept_[0]\n",
    "#     coefs.append(coef)\n",
    "#     intercepts.append(intercept)\n",
    "for i in range(len(labels)):\n",
    "    coef = clf.coef_[i].reshape(1, -1).tolist()\n",
    "    coefs.append(coef)\n",
    "    intercepts.append(clf.intercept_[i])\n",
    "for i in range(len(labels)):\n",
    "    print(\"const float %s[] = {%s};\" % (labels[i], ','.join([str(x) for x in coefs[i]])[1:-1]))\n",
    "    print(\"const float %sInt = %s;\" % (labels[i], intercepts[i]))"
   ]
  },
  {
   "cell_type": "code",
   "execution_count": null,
   "metadata": {},
   "outputs": [],
   "source": []
  }
 ],
 "metadata": {
  "kernelspec": {
   "display_name": "Python 3",
   "language": "python",
   "name": "python3"
  },
  "language_info": {
   "codemirror_mode": {
    "name": "ipython",
    "version": 3
   },
   "file_extension": ".py",
   "mimetype": "text/x-python",
   "name": "python",
   "nbconvert_exporter": "python",
   "pygments_lexer": "ipython3",
   "version": "3.11.4"
  }
 },
 "nbformat": 4,
 "nbformat_minor": 2
}
