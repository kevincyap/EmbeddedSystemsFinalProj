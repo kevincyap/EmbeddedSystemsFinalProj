{
 "cells": [
  {
   "cell_type": "code",
   "execution_count": 211,
   "metadata": {},
   "outputs": [],
   "source": [
    "#Train a logisitic regression model on data.csv\n",
    "\n",
    "from sklearn.linear_model import LogisticRegression\n",
    "import numpy as np\n",
    "\n",
    "\n",
    "\n",
    "def loadData(filename, label):\n",
    "    with open(filename, 'r') as f:\n",
    "        X = np.loadtxt(f, delimiter=',')\n",
    "    # X = []\n",
    "    # for i in range(len(X_[:, 0])//3):\n",
    "    #     point = []\n",
    "    #     point += (X_[i*3, :]).tolist()\n",
    "    #     point += (X_[i*3+1, :]).tolist()\n",
    "    #     point += (X_[i*3+2, :]).tolist()\n",
    "    #     X.append(point)\n",
    "    # X = np.array(X)\n",
    "    Y = np.array([label for i in range(len(X[:, 0]))])\n",
    "    return X, Y\n",
    "\n",
    "labels = ['rightLeft', 'leftRight', 'rotRight']\n",
    "X = np.array([])\n",
    "Y = np.array([])\n",
    "for (i, label) in enumerate(labels):\n",
    "    filename = \"./%s.csv\" % label\n",
    "    _X, _Y = loadData(filename, labels.index(label))\n",
    "    if X.shape[0] == 0:\n",
    "        X = _X\n",
    "        Y = _Y\n",
    "    else:\n",
    "        X = np.concatenate((X, _X), axis=0)\n",
    "        Y = np.concatenate((Y, _Y), axis=0)"
   ]
  },
  {
   "cell_type": "code",
   "execution_count": 212,
   "metadata": {},
   "outputs": [],
   "source": [
    "# def formatFile(fileName):\n",
    "#     with open(fileName, 'r') as f:\n",
    "#         _lines = f.readlines()\n",
    "#         lines = []\n",
    "#         for line in _lines:\n",
    "#             line = line.strip()\n",
    "#             line = line.split(',')\n",
    "#             if line[-1] == '':\n",
    "#                 line = line[:-1]\n",
    "#             lines.append(','.join(line) + '\\n')\n",
    "\n",
    "\n",
    "#     with open(fileName, 'w') as f:\n",
    "#         for line in lines:\n",
    "#             f.write(line)\n",
    "\n",
    "# formatFile('./rotRight.csv')"
   ]
  },
  {
   "cell_type": "code",
   "execution_count": 213,
   "metadata": {},
   "outputs": [
    {
     "data": {
      "text/html": [
       "<style>#sk-container-id-13 {color: black;background-color: white;}#sk-container-id-13 pre{padding: 0;}#sk-container-id-13 div.sk-toggleable {background-color: white;}#sk-container-id-13 label.sk-toggleable__label {cursor: pointer;display: block;width: 100%;margin-bottom: 0;padding: 0.3em;box-sizing: border-box;text-align: center;}#sk-container-id-13 label.sk-toggleable__label-arrow:before {content: \"▸\";float: left;margin-right: 0.25em;color: #696969;}#sk-container-id-13 label.sk-toggleable__label-arrow:hover:before {color: black;}#sk-container-id-13 div.sk-estimator:hover label.sk-toggleable__label-arrow:before {color: black;}#sk-container-id-13 div.sk-toggleable__content {max-height: 0;max-width: 0;overflow: hidden;text-align: left;background-color: #f0f8ff;}#sk-container-id-13 div.sk-toggleable__content pre {margin: 0.2em;color: black;border-radius: 0.25em;background-color: #f0f8ff;}#sk-container-id-13 input.sk-toggleable__control:checked~div.sk-toggleable__content {max-height: 200px;max-width: 100%;overflow: auto;}#sk-container-id-13 input.sk-toggleable__control:checked~label.sk-toggleable__label-arrow:before {content: \"▾\";}#sk-container-id-13 div.sk-estimator input.sk-toggleable__control:checked~label.sk-toggleable__label {background-color: #d4ebff;}#sk-container-id-13 div.sk-label input.sk-toggleable__control:checked~label.sk-toggleable__label {background-color: #d4ebff;}#sk-container-id-13 input.sk-hidden--visually {border: 0;clip: rect(1px 1px 1px 1px);clip: rect(1px, 1px, 1px, 1px);height: 1px;margin: -1px;overflow: hidden;padding: 0;position: absolute;width: 1px;}#sk-container-id-13 div.sk-estimator {font-family: monospace;background-color: #f0f8ff;border: 1px dotted black;border-radius: 0.25em;box-sizing: border-box;margin-bottom: 0.5em;}#sk-container-id-13 div.sk-estimator:hover {background-color: #d4ebff;}#sk-container-id-13 div.sk-parallel-item::after {content: \"\";width: 100%;border-bottom: 1px solid gray;flex-grow: 1;}#sk-container-id-13 div.sk-label:hover label.sk-toggleable__label {background-color: #d4ebff;}#sk-container-id-13 div.sk-serial::before {content: \"\";position: absolute;border-left: 1px solid gray;box-sizing: border-box;top: 0;bottom: 0;left: 50%;z-index: 0;}#sk-container-id-13 div.sk-serial {display: flex;flex-direction: column;align-items: center;background-color: white;padding-right: 0.2em;padding-left: 0.2em;position: relative;}#sk-container-id-13 div.sk-item {position: relative;z-index: 1;}#sk-container-id-13 div.sk-parallel {display: flex;align-items: stretch;justify-content: center;background-color: white;position: relative;}#sk-container-id-13 div.sk-item::before, #sk-container-id-13 div.sk-parallel-item::before {content: \"\";position: absolute;border-left: 1px solid gray;box-sizing: border-box;top: 0;bottom: 0;left: 50%;z-index: -1;}#sk-container-id-13 div.sk-parallel-item {display: flex;flex-direction: column;z-index: 1;position: relative;background-color: white;}#sk-container-id-13 div.sk-parallel-item:first-child::after {align-self: flex-end;width: 50%;}#sk-container-id-13 div.sk-parallel-item:last-child::after {align-self: flex-start;width: 50%;}#sk-container-id-13 div.sk-parallel-item:only-child::after {width: 0;}#sk-container-id-13 div.sk-dashed-wrapped {border: 1px dashed gray;margin: 0 0.4em 0.5em 0.4em;box-sizing: border-box;padding-bottom: 0.4em;background-color: white;}#sk-container-id-13 div.sk-label label {font-family: monospace;font-weight: bold;display: inline-block;line-height: 1.2em;}#sk-container-id-13 div.sk-label-container {text-align: center;}#sk-container-id-13 div.sk-container {/* jupyter's `normalize.less` sets `[hidden] { display: none; }` but bootstrap.min.css set `[hidden] { display: none !important; }` so we also need the `!important` here to be able to override the default hidden behavior on the sphinx rendered scikit-learn.org. See: https://github.com/scikit-learn/scikit-learn/issues/21755 */display: inline-block !important;position: relative;}#sk-container-id-13 div.sk-text-repr-fallback {display: none;}</style><div id=\"sk-container-id-13\" class=\"sk-top-container\"><div class=\"sk-text-repr-fallback\"><pre>LogisticRegression(multi_class=&#x27;ovr&#x27;, solver=&#x27;liblinear&#x27;)</pre><b>In a Jupyter environment, please rerun this cell to show the HTML representation or trust the notebook. <br />On GitHub, the HTML representation is unable to render, please try loading this page with nbviewer.org.</b></div><div class=\"sk-container\" hidden><div class=\"sk-item\"><div class=\"sk-estimator sk-toggleable\"><input class=\"sk-toggleable__control sk-hidden--visually\" id=\"sk-estimator-id-13\" type=\"checkbox\" checked><label for=\"sk-estimator-id-13\" class=\"sk-toggleable__label sk-toggleable__label-arrow\">LogisticRegression</label><div class=\"sk-toggleable__content\"><pre>LogisticRegression(multi_class=&#x27;ovr&#x27;, solver=&#x27;liblinear&#x27;)</pre></div></div></div></div></div>"
      ],
      "text/plain": [
       "LogisticRegression(multi_class='ovr', solver='liblinear')"
      ]
     },
     "execution_count": 213,
     "metadata": {},
     "output_type": "execute_result"
    }
   ],
   "source": [
    "# def trainLogReg(X, Y, clss = 0):\n",
    "#     Y = Y.copy()\n",
    "#     for i in range(Y.shape[0]):\n",
    "#         if Y[i] == clss:\n",
    "#             Y[i] = 1\n",
    "#         else:\n",
    "#             Y[i] = 0\n",
    "#     clf = LogisticRegression(random_state=0, max_iter=10000).fit(X, Y)\n",
    "#     return clf\n",
    "    \n",
    "# clfs = []\n",
    "# for (i, label) in enumerate(labels):\n",
    "#     clfs.append(trainLogReg(X, Y, i))\n",
    "clf = LogisticRegression(multi_class='ovr', solver='liblinear')\n",
    "clf.fit(X, Y)\n"
   ]
  },
  {
   "cell_type": "code",
   "execution_count": 214,
   "metadata": {},
   "outputs": [
    {
     "name": "stdout",
     "output_type": "stream",
     "text": [
      "[0]\n",
      "const int16_t rightLeft[] = {248, -102, -845, -1620, -2143, -2514, -2663, -2564, -1847, -1766, -1337, -612, -24, 229, 796, 1541, 2263, 2532, 2686, 2154, 5187, 7949, 7567, 5365, 2882, 544, -48, -613, -1433, -2022, -2186, -2292, -3054, -3748, -3341, -4033, -3402, -2840, -747, -1840, 347, 908, 650, 251, -171, -194, -116, -592, 588, 1230, 2389, 2400, 2980, 3045, 3405, 3274, 3617, 3318, 3623, 3866};\n",
      "const float rightLeftInt = -0.4764453688109578;\n",
      "const int16_t leftRight[] = {-80, 350, 1079, 1766, 2193, 2546, 2592, 2457, 2094, 2327, 2184, 1722, 1177, 762, 71, -766, -1600, -2139, -2540, -2527, -3241, -4965, -5241, -4131, -2359, -802, -370, -41, 956, 1550, 2031, 2174, 3129, 3924, 4234, 4989, 4782, 4616, 3156, 3682, -160, -636, -662, -405, -286, -132, 46, 503, 163, 335, 119, 565, 678, 964, 975, 994, 684, 859, 633, 384};\n",
      "const float leftRightInt = 0.3618371859411224;\n",
      "const int16_t rotRight[] = {-26, -379, -707, -978, -1309, -1772, -2107, -2355, -2482, -2622, -2843, -3138, -3365, -3275, -3044, -2755, -2462, -2083, -1776, -1699, -1005, -1582, -1747, -1707, -1747, -945, -417, 567, 755, 1213, 1340, 1744, 1020, 366, -740, -1177, -1784, -2432, -2511, -2072, 122, 288, 261, 187, 127, 181, 28, 266, -99, -280, -789, -1261, -1947, -2309, -2508, -2308, -2030, -1927, -1904, -1706};\n",
      "const float rotRightInt = -0.5095718027473871;\n",
      "const int16_t* models[] = {rightLeft,leftRight,rotRight};\n",
      "const float modelInts[] = {rightLeftInt,leftRightInt,rotRightInt};\n",
      "#define NUM_MODELS 3\n"
     ]
    }
   ],
   "source": [
    "# def predict(clfs, X):\n",
    "#     for clf in clfs:\n",
    "#         print(clf.predict(X))\n",
    "test = [0,0,0,0,0,0,0,0,0,0,0,0,0,0,0,0,0,0,0,0,\n",
    "0,0,0,0,0,0,0,0,0,0,0,0,0,0,0,0,0,0,0,0,\n",
    "10.28,10.78,11.05,7.33,7.83,8.25,8.59,7.52,8.23,9.08,9.82,10.45,10.99,11.23,0,0,0,0,0,0]\n",
    "test = np.array(test).reshape(1, -1)\n",
    "# predict(clfs, test)\n",
    "print(clf.predict(test))\n",
    "coefs = []\n",
    "intercepts = []\n",
    "# for clf in clfs:\n",
    "#     coef = clf.coef_.reshape(1, -1).tolist()[0]\n",
    "#     intercept = clf.intercept_[0]\n",
    "#     coefs.append(coef)\n",
    "#     intercepts.append(intercept)\n",
    "for i in range(len(labels)):\n",
    "    coef = clf.coef_[i].reshape(1, -1).tolist()\n",
    "    coefs.append(coef)\n",
    "    intercepts.append(clf.intercept_[i])\n",
    "coefs = [[[(int) (x * 10000) for x in coefs[i][0]]] for i in range(len(coefs))]\n",
    "for i in range(len(labels)):\n",
    "    print(\"const int16_t %s[] = {%s};\" % (labels[i], ','.join([str(x) for x in coefs[i]])[1:-1]))\n",
    "    print(\"const float %sInt = %s;\" % (labels[i], intercepts[i]))\n",
    "print(\"const int16_t* models[] = {%s};\" % (','.join(labels)))\n",
    "print(\"const float modelInts[] = {%s};\" % (','.join([x + 'Int' for x in labels])))\n",
    "print(\"#define NUM_MODELS %s\" % len(labels))"
   ]
  },
  {
   "cell_type": "code",
   "execution_count": null,
   "metadata": {},
   "outputs": [],
   "source": []
  }
 ],
 "metadata": {
  "kernelspec": {
   "display_name": "Python 3",
   "language": "python",
   "name": "python3"
  },
  "language_info": {
   "codemirror_mode": {
    "name": "ipython",
    "version": 3
   },
   "file_extension": ".py",
   "mimetype": "text/x-python",
   "name": "python",
   "nbconvert_exporter": "python",
   "pygments_lexer": "ipython3",
   "version": "3.11.4"
  }
 },
 "nbformat": 4,
 "nbformat_minor": 2
}
